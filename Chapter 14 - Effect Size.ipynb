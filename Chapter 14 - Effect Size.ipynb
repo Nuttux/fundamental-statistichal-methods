{
 "cells": [
  {
   "cell_type": "markdown",
   "metadata": {},
   "source": [
    "# Effect Size"
   ]
  },
  {
   "cell_type": "code",
   "execution_count": 6,
   "metadata": {},
   "outputs": [
    {
     "name": "stdout",
     "output_type": "stream",
     "text": [
      "Pearson's correlation : 0.712\n"
     ]
    }
   ],
   "source": [
    "# Calculate the pearson correlation between two variables \n",
    "from numpy.random import randn\n",
    "from numpy.random import seed\n",
    "from scipy.stats import pearsonr\n",
    "\n",
    "# seed random number generator\n",
    "seed(1)\n",
    "\n",
    "# prepare data\n",
    "data1 = 10 * randn(10000) + 50 \n",
    "data2 = data1 + (10 * randn(10000) + 50)\n",
    "\n",
    "# calculate pearson's correlation\n",
    "corr, _ = pearsonr(data1, data2)\n",
    "print(\"Pearson's correlation: %.3f\" % corr)"
   ]
  },
  {
   "cell_type": "code",
   "execution_count": 16,
   "metadata": {},
   "outputs": [
    {
     "name": "stdout",
     "output_type": "stream",
     "text": [
      "Cohen's d: 0.500\n"
     ]
    }
   ],
   "source": [
    "# Calculate the Cohen's d between 2 samples\n",
    "from numpy.random import randn \n",
    "from numpy.random import seed\n",
    "from numpy import mean \n",
    "from numpy import var \n",
    "from math import sqrt \n",
    "\n",
    "# function to calculate cohen's d fro independent samples\n",
    "def cohend(d1, d2):\n",
    "    # calculate the size of the samples\n",
    "    n1, n2 = len(d1), len(d2)\n",
    "    # calculate the variance of the samples\n",
    "    s1, s2 = var(d1, ddof=1), var(d2, ddof=1)\n",
    "    # calculate pooled standard deviation \n",
    "    s = sqrt(((n1 - 1) * s1 + (n2 - 1) * s2) / (n1 + n2 -2))\n",
    "    # calculate the mean of samples\n",
    "    u1, u2 = mean(d1), mean(d2)\n",
    "    # calculate the effect size \n",
    "    return (u1 - u2) / s\n",
    "    \n",
    "# seed the random generator number \n",
    "seed(1)\n",
    "\n",
    "# prepare the data \n",
    "data1 = 10 * randn(10000) + 60 \n",
    "data2 = 10 * randn(10000) + 55\n",
    "\n",
    "# calculate cohen's d\n",
    "d = cohend(data1, data2)\n",
    "print(\"Cohen's d: %.3f\" % d)"
   ]
  },
  {
   "cell_type": "code",
   "execution_count": null,
   "metadata": {
    "collapsed": true
   },
   "outputs": [],
   "source": []
  },
  {
   "cell_type": "code",
   "execution_count": null,
   "metadata": {
    "collapsed": true
   },
   "outputs": [],
   "source": []
  },
  {
   "cell_type": "code",
   "execution_count": null,
   "metadata": {
    "collapsed": true
   },
   "outputs": [],
   "source": []
  },
  {
   "cell_type": "code",
   "execution_count": null,
   "metadata": {
    "collapsed": true
   },
   "outputs": [],
   "source": []
  }
 ],
 "metadata": {
  "kernelspec": {
   "display_name": "Python 3",
   "language": "python",
   "name": "python3"
  },
  "language_info": {
   "codemirror_mode": {
    "name": "ipython",
    "version": 3
   },
   "file_extension": ".py",
   "mimetype": "text/x-python",
   "name": "python",
   "nbconvert_exporter": "python",
   "pygments_lexer": "ipython3",
   "version": "3.6.3"
  }
 },
 "nbformat": 4,
 "nbformat_minor": 2
}
