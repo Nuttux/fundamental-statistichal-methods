{
 "cells": [
  {
   "cell_type": "markdown",
   "metadata": {},
   "source": [
    "# Tolerance Interval"
   ]
  },
  {
   "cell_type": "code",
   "execution_count": 2,
   "metadata": {},
   "outputs": [
    {
     "name": "stdout",
     "output_type": "stream",
     "text": [
      "Gaussian critical value: -1.960 (coverage=95%)\n",
      "Chi-Squared critical value: 69.230 (prob=99%, dof=99)\n",
      "Tolerance Interval: 2.355\n",
      "47.95 to 52.66 covers 95% of data with a confidence of 99%\n"
     ]
    }
   ],
   "source": [
    "# parametric tolerance interval\n",
    "from numpy.random import seed\n",
    "from numpy.random import randn\n",
    "from numpy import mean\n",
    "from numpy import sqrt\n",
    "from scipy.stats import chi2\n",
    "from scipy.stats import norm\n",
    "\n",
    "# seed the random number generator\n",
    "seed(1)\n",
    "\n",
    "# generate dataset\n",
    "data = 5 * randn(100) + 50\n",
    "   \n",
    "# specify degrees of freedom\n",
    "n = len(data)\n",
    "dof = n - 1\n",
    "\n",
    "# specify data coverage\n",
    "prop = 0.95\n",
    "prop_inv = (1.0 - prop) / 2.0\n",
    "gauss_critical = norm.ppf(prop_inv)\n",
    "print(\"Gaussian critical value: %.3f (coverage=%d%%)\"  % (gauss_critical, prop*100))\n",
    "\n",
    "# specify confidence\n",
    "prob = 0.99\n",
    "prop_inv = 1.0 - prob\n",
    "chi_critical = chi2.ppf(prop_inv, dof)\n",
    "print(\"Chi-Squared critical value: %.3f (prob=%d%%, dof=%d)\"  % (chi_critical, prob*100, dof))\n",
    "\n",
    "# tolerance\n",
    "interval = sqrt((dof * (1 + (1/n)) * gauss_critical**2) / chi_critical)\n",
    "print(\"Tolerance Interval: %.3f\"  % interval)\n",
    "\n",
    "# summarize\n",
    "data_mean = mean(data)\n",
    "lower, upper = data_mean-interval, data_mean+interval\n",
    "print( \"%.2f to %.2f covers %d%% of data with a confidence of %d%%\"  % (lower, upper,\n",
    "    prop*100, prob*100))"
   ]
  },
  {
   "cell_type": "code",
   "execution_count": 4,
   "metadata": {},
   "outputs": [
    {
     "data": {
      "image/png": "[encoded data removed]",
      "text/plain": [
       "<matplotlib.figure.Figure at 0x1a0f3b9128>"
      ]
     },
     "metadata": {},
     "output_type": "display_data"
    }
   ],
   "source": [
    "# plot tolerance interval vs sample size\n",
    "from numpy.random import seed\n",
    "from numpy.random import randn\n",
    "from numpy import sqrt\n",
    "from scipy.stats import chi2\n",
    "from scipy.stats import norm\n",
    "from matplotlib import pyplot\n",
    "\n",
    "# seed the random number generator\n",
    "seed(1)\n",
    "\n",
    "# sample sizes\n",
    "sizes = range(5,15)\n",
    "\n",
    "for n in sizes:\n",
    "  # generate dataset\n",
    "    data = 5 * randn(n) + 50\n",
    "  # calculate degrees of freedom\n",
    "    dof = n - 1\n",
    "  # specify data coverage\n",
    "    prop = 0.95\n",
    "    prop_inv = (1.0 - prop) / 2.0\n",
    "    gauss_critical = norm.ppf(prop_inv)\n",
    "    # specify confidence\n",
    "    prob = 0.99\n",
    "    prop_inv = 1.0 - prob\n",
    "    chi_critical = chi2.ppf(prop_inv, dof)\n",
    "    # tolerance\n",
    "    tol = sqrt((dof * (1 + (1/n)) * gauss_critical**2) / chi_critical)\n",
    "    # plot\n",
    "    pyplot.errorbar(n, 50, yerr=tol, color='blue' , fmt='o' )\n",
    "    \n",
    "# plot results\n",
    "pyplot.show()"
   ]
  },
  {
   "cell_type": "code",
   "execution_count": null,
   "metadata": {
    "collapsed": true
   },
   "outputs": [],
   "source": []
  },
  {
   "cell_type": "code",
   "execution_count": null,
   "metadata": {
    "collapsed": true
   },
   "outputs": [],
   "source": []
  },
  {
   "cell_type": "code",
   "execution_count": null,
   "metadata": {
    "collapsed": true
   },
   "outputs": [],
   "source": []
  },
  {
   "cell_type": "code",
   "execution_count": null,
   "metadata": {
    "collapsed": true
   },
   "outputs": [],
   "source": []
  }
 ],
 "metadata": {
  "kernelspec": {
   "display_name": "Python 3",
   "language": "python",
   "name": "python3"
  },
  "language_info": {
   "codemirror_mode": {
    "name": "ipython",
    "version": 3
   },
   "file_extension": ".py",
   "mimetype": "text/x-python",
   "name": "python",
   "nbconvert_exporter": "python",
   "pygments_lexer": "ipython3",
   "version": "3.6.3"
  }
 },
 "nbformat": 4,
 "nbformat_minor": 2
}
