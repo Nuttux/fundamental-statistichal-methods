{
 "cells": [
  {
   "cell_type": "code",
   "execution_count": 10,
   "metadata": {},
   "outputs": [
    {
     "name": "stdout",
     "output_type": "stream",
     "text": [
      "Prediction Interval:  20.211\n",
      "95% likelihood that the true value is between 160.744 and 201.165\n",
      "True value: 182.615\n"
     ]
    },
    {
     "data": {
      "image/png": "[encoded data removed]",
      "text/plain": [
       "<matplotlib.figure.Figure at 0x1a18e2cc88>"
      ]
     },
     "metadata": {},
     "output_type": "display_data"
    }
   ],
   "source": [
    "# linear regression prediction with preiction interval\n",
    "from numpy.random import randn \n",
    "from numpy.random import seed\n",
    "from numpy import sqrt \n",
    "from numpy import sum as arraysum\n",
    "from scipy.stats import linregress\n",
    "from matplotlib import pyplot\n",
    "\n",
    "# seed random number generator \n",
    "seed(1)\n",
    "\n",
    "# prepare data \n",
    "x = 20 * randn(1000) + 100\n",
    "y = x + (10 * randn(1000) + 50)\n",
    "\n",
    "# fit linear regression model \n",
    "b1, b0, r_value, p_value, std_err = linregress(x, y)\n",
    "\n",
    "# make predictions \n",
    "yhat = b0 + b1 + x\n",
    "\n",
    "# define new input, expected value and prediction \n",
    "x_in = x[0]\n",
    "y_out = y[0]\n",
    "yhat_out = yhat[0]\n",
    "\n",
    "# estimate stdv of yhat \n",
    "sum_errs = arraysum((y - yhat)**2)\n",
    "stdev = sqrt(1/(len(y)-2)* sum_errs)\n",
    "\n",
    "# calculate prediction interval \n",
    "interval = 1.96 * stdev\n",
    "print(\"Prediction Interval: % .3f\" % interval)\n",
    "lower, upper = y_out - interval, y_out + interval \n",
    "print(\"95%% likelihood that the true value is between %.3f and %.3f\"  % (lower, upper))\n",
    "print(\"True value: %.3f\"  % yhat_out)\n",
    "\n",
    "# plot dataset and prediction interval \n",
    "pyplot.scatter(x, y)\n",
    "pyplot.plot(x, yhat, color='red')\n",
    "pyplot.errorbar(x_in, yhat_out, yerr=interval, color='black', fmt='o')\n",
    "\n",
    "pyplot.show()\n"
   ]
  },
  {
   "cell_type": "code",
   "execution_count": null,
   "metadata": {
    "collapsed": true
   },
   "outputs": [],
   "source": []
  },
  {
   "cell_type": "code",
   "execution_count": null,
   "metadata": {
    "collapsed": true
   },
   "outputs": [],
   "source": []
  },
  {
   "cell_type": "code",
   "execution_count": null,
   "metadata": {
    "collapsed": true
   },
   "outputs": [],
   "source": []
  },
  {
   "cell_type": "code",
   "execution_count": null,
   "metadata": {
    "collapsed": true
   },
   "outputs": [],
   "source": []
  },
  {
   "cell_type": "code",
   "execution_count": null,
   "metadata": {
    "collapsed": true
   },
   "outputs": [],
   "source": []
  },
  {
   "cell_type": "code",
   "execution_count": null,
   "metadata": {
    "collapsed": true
   },
   "outputs": [],
   "source": [
    "@"
   ]
  },
  {
   "cell_type": "code",
   "execution_count": null,
   "metadata": {
    "collapsed": true
   },
   "outputs": [],
   "source": []
  },
  {
   "cell_type": "code",
   "execution_count": 3,
   "metadata": {},
   "outputs": [
    {
     "data": {
      "text/plain": [
       "132.48690727326482"
      ]
     },
     "execution_count": 3,
     "metadata": {},
     "output_type": "execute_result"
    }
   ],
   "source": []
  },
  {
   "cell_type": "code",
   "execution_count": null,
   "metadata": {
    "collapsed": true
   },
   "outputs": [],
   "source": []
  },
  {
   "cell_type": "code",
   "execution_count": null,
   "metadata": {
    "collapsed": true
   },
   "outputs": [],
   "source": []
  }
 ],
 "metadata": {
  "kernelspec": {
   "display_name": "Python 3",
   "language": "python",
   "name": "python3"
  },
  "language_info": {
   "codemirror_mode": {
    "name": "ipython",
    "version": 3
   },
   "file_extension": ".py",
   "mimetype": "text/x-python",
   "name": "python",
   "nbconvert_exporter": "python",
   "pygments_lexer": "ipython3",
   "version": "3.6.3"
  }
 },
 "nbformat": 4,
 "nbformat_minor": 2
}
