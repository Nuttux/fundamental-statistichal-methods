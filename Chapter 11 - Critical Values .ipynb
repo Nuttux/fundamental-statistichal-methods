{
 "cells": [
  {
   "cell_type": "markdown",
   "metadata": {},
   "source": [
    "#  Critical Values"
   ]
  },
  {
   "cell_type": "code",
   "execution_count": 1,
   "metadata": {},
   "outputs": [
    {
     "name": "stdout",
     "output_type": "stream",
     "text": [
      "1.64485362695\n",
      "0.95\n"
     ]
    }
   ],
   "source": [
    "# gaussian percent point function \n",
    "from scipy.stats import norm \n",
    "\n",
    "# define probability \n",
    "p = 0.95\n",
    "\n",
    "# retrieve value <= probability \n",
    "value = norm.ppf(p)\n",
    "print(value)\n",
    "\n",
    "# confirm with the cdf \n",
    "p = norm.cdf(value)\n",
    "print(p)"
   ]
  },
  {
   "cell_type": "code",
   "execution_count": 4,
   "metadata": {},
   "outputs": [
    {
     "name": "stdout",
     "output_type": "stream",
     "text": [
      "1.81246112281\n",
      "0.95\n"
     ]
    }
   ],
   "source": [
    "# student t-distribution percent point function \n",
    "from scipy.stats import t \n",
    "\n",
    "# define probability \n",
    "p = 0.95 \n",
    "dof = 10\n",
    "\n",
    "# retrive value <= probability \n",
    "value = t.ppf(p, dof)\n",
    "print(value)\n",
    "\n",
    "# confirm with cdf \n",
    "p = t.cdf(value, dof) \n",
    "print(p)"
   ]
  },
  {
   "cell_type": "code",
   "execution_count": 6,
   "metadata": {},
   "outputs": [
    {
     "name": "stdout",
     "output_type": "stream",
     "text": [
      "18.3070380533\n",
      "0.95\n"
     ]
    }
   ],
   "source": [
    "# chi2 distribution percent point function\n",
    "from scipy.stats import chi2 \n",
    "\n",
    "# define probability \n",
    "p = 0.95 \n",
    "dof = 10 \n",
    "\n",
    "# retrioeve value <= probability \n",
    "value = chi2.ppf(p, dof)\n",
    "print(value) \n",
    "\n",
    "# confirm with cdf\n",
    "p = chi2.cdf(value, dof) \n",
    "print(p) "
   ]
  },
  {
   "cell_type": "code",
   "execution_count": null,
   "metadata": {
    "collapsed": true
   },
   "outputs": [],
   "source": []
  },
  {
   "cell_type": "code",
   "execution_count": null,
   "metadata": {
    "collapsed": true
   },
   "outputs": [],
   "source": []
  },
  {
   "cell_type": "code",
   "execution_count": null,
   "metadata": {
    "collapsed": true
   },
   "outputs": [],
   "source": []
  },
  {
   "cell_type": "code",
   "execution_count": null,
   "metadata": {
    "collapsed": true
   },
   "outputs": [],
   "source": []
  }
 ],
 "metadata": {
  "kernelspec": {
   "display_name": "Python 3",
   "language": "python",
   "name": "python3"
  },
  "language_info": {
   "codemirror_mode": {
    "name": "ipython",
    "version": 3
   },
   "file_extension": ".py",
   "mimetype": "text/x-python",
   "name": "python",
   "nbconvert_exporter": "python",
   "pygments_lexer": "ipython3",
   "version": "3.6.3"
  }
 },
 "nbformat": 4,
 "nbformat_minor": 2
}
