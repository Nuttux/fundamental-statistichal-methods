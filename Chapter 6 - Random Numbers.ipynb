{
 "cells": [
  {
   "cell_type": "markdown",
   "metadata": {},
   "source": [
    "# Random Numbers "
   ]
  },
  {
   "cell_type": "markdown",
   "metadata": {},
   "source": [
    "We will explore:\n",
    "1. The sources of randomness in applied Machine Learning with a focus on algorithmq. \n",
    "2. What a pseudorandom number generator is and how to use them in Python.\n",
    "3. When to control the sequence of random numbers and when to control for randomness.\n",
    "\n",
    "7 parts:\n",
    "- Randomness in Machine Learning\n",
    "- Pseudorandom number generators \n",
    "- Random numbers in Python \n",
    "- Random numbers with NumPy \n",
    "- When to seed the random number generator \n",
    "- How to Control to Randomness \n",
    "- Common Questions "
   ]
  },
  {
   "cell_type": "code",
   "execution_count": 3,
   "metadata": {},
   "outputs": [
    {
     "name": "stdout",
     "output_type": "stream",
     "text": [
      "0.13436424411240122 0.8474337369372327 0.763774618976614\n",
      "0.13436424411240122 0.8474337369372327 0.763774618976614\n"
     ]
    }
   ],
   "source": [
    "# Seed the random number generator\n",
    "\n",
    "# seed the pseudo random number generator \n",
    "from random import seed \n",
    "from random import random\n",
    "\n",
    "# seed number generator \n",
    "seed(1)\n",
    "\n",
    "# generate some random numbers\n",
    "print(random(), random (), random())\n",
    "\n",
    "# reset the seed \n",
    "seed(1)\n",
    "\n",
    "print(random(), random(), random())"
   ]
  },
  {
   "cell_type": "code",
   "execution_count": 4,
   "metadata": {},
   "outputs": [
    {
     "name": "stdout",
     "output_type": "stream",
     "text": [
      "0.13436424411240122\n",
      "0.8474337369372327\n",
      "0.763774618976614\n",
      "0.2550690257394217\n",
      "0.49543508709194095\n",
      "0.4494910647887381\n",
      "0.651592972722763\n",
      "0.7887233511355132\n",
      "0.0938595867742349\n",
      "0.02834747652200631\n"
     ]
    }
   ],
   "source": [
    "# Random Floating Points Value\n",
    "\n",
    "# generate random floating points value \n",
    "from random import seed\n",
    "from random import random \n",
    "\n",
    "# seed random number generator \n",
    "seed(1)\n",
    "\n",
    "# generate 10 numbers between 0 and 1 \n",
    "for _ in range(10):\n",
    "    value = random()\n",
    "    print(value)"
   ]
  },
  {
   "cell_type": "code",
   "execution_count": 7,
   "metadata": {},
   "outputs": [
    {
     "name": "stdout",
     "output_type": "stream",
     "text": [
      "2\n",
      "9\n",
      "1\n",
      "4\n",
      "1\n",
      "7\n",
      "7\n",
      "7\n",
      "10\n",
      "6\n"
     ]
    }
   ],
   "source": [
    "# Generate Random Integer Value\n",
    "\n",
    "# generate random inetger values \n",
    "from random import seed\n",
    "from random import randint \n",
    "\n",
    "# seed random number generator \n",
    "seed(1)\n",
    "\n",
    "# generate some integers \n",
    "for _ in range(10):\n",
    "    value = randint(0, 10) \n",
    "    print(value)"
   ]
  },
  {
   "cell_type": "code",
   "execution_count": 8,
   "metadata": {},
   "outputs": [
    {
     "name": "stdout",
     "output_type": "stream",
     "text": [
      "1.2881847531554629\n",
      "1.449445608699771\n",
      "0.06633580893826191\n",
      "-0.7645436509716318\n",
      "-1.0921732151041414\n",
      "0.03133451683171687\n",
      "-1.022103170010873\n",
      "-1.4368294451025299\n",
      "0.19931197648375384\n",
      "0.13337460465860485\n"
     ]
    }
   ],
   "source": [
    "# Random Gaussian Values\n",
    "\n",
    "# generate random gaussian values \n",
    "from random import seed\n",
    "from random import gauss\n",
    "\n",
    "# seed radnom number generator\n",
    "seed(1)\n",
    "\n",
    "# generate some gaussian values \n",
    "for _ in range(10):\n",
    "    value = gauss(0, 1)\n",
    "    print(value)"
   ]
  },
  {
   "cell_type": "code",
   "execution_count": 10,
   "metadata": {},
   "outputs": [
    {
     "name": "stdout",
     "output_type": "stream",
     "text": [
      "[0, 1, 2, 3, 4, 5, 6, 7, 8, 9, 10, 11, 12, 13, 14, 15, 16, 17, 18, 19]\n",
      "4\n",
      "18\n",
      "2\n",
      "8\n",
      "3\n"
     ]
    }
   ],
   "source": [
    "# Random chosing from a list \n",
    "\n",
    "# generate random element from a list \n",
    "from random import seed\n",
    "from random import choice\n",
    "\n",
    "# seed the random number generator \n",
    "seed(1) \n",
    "\n",
    "# generate a sequence of 20 numbers \n",
    "sequence = [i for i in range(20)]\n",
    "print(sequence)\n",
    "\n",
    "# make a choice from sequence\n",
    "for _ in range(5):\n",
    "    selection = choice(sequence)\n",
    "    print(selection)"
   ]
  },
  {
   "cell_type": "code",
   "execution_count": 13,
   "metadata": {},
   "outputs": [
    {
     "name": "stdout",
     "output_type": "stream",
     "text": [
      "[0, 1, 2, 3, 4, 5, 6, 7, 8, 9, 10, 11, 12, 13, 14, 15, 16, 17, 18, 19]\n",
      "[4, 18, 2, 8, 3]\n"
     ]
    }
   ],
   "source": [
    "# Random subsample from a list \n",
    "\n",
    "# generate random sample without replacement \n",
    "from random import seed \n",
    "from random import sample \n",
    "\n",
    "# seed the random number generator \n",
    "seed(1) \n",
    "\n",
    "# generate a sequence \n",
    "sequence = [i for i in range(20)]\n",
    "print(sequence)\n",
    "\n",
    "# make a choice from sequence \n",
    "subset = sample(sequence, 5)\n",
    "print(subset)"
   ]
  },
  {
   "cell_type": "code",
   "execution_count": 14,
   "metadata": {},
   "outputs": [
    {
     "name": "stdout",
     "output_type": "stream",
     "text": [
      "[0, 1, 2, 3, 4, 5, 6, 7, 8, 9, 10, 11, 12, 13, 14, 15, 16, 17, 18, 19]\n",
      "[11, 5, 17, 19, 9, 0, 16, 1, 15, 6, 10, 13, 14, 12, 7, 3, 8, 2, 18, 4]\n"
     ]
    }
   ],
   "source": [
    "# Randomy Shuffle a List \n",
    "\n",
    "# randomly shuffle a sequence \n",
    "from random import seed\n",
    "from random import shuffle\n",
    "\n",
    "# seed teh random number generator \n",
    "seed(1) \n",
    "\n",
    "# generate a sequence \n",
    "sequence = [i for i in range(20)]\n",
    "print(sequence)\n",
    "\n",
    "# shuffle the list\n",
    "shuffle(sequence)\n",
    "print(sequence)"
   ]
  },
  {
   "cell_type": "code",
   "execution_count": 15,
   "metadata": {},
   "outputs": [
    {
     "name": "stdout",
     "output_type": "stream",
     "text": [
      "[  4.17022005e-01   7.20324493e-01   1.14374817e-04]\n",
      "[  4.17022005e-01   7.20324493e-01   1.14374817e-04]\n"
     ]
    }
   ],
   "source": [
    "# Random Number Generator (NumPy) \n",
    "\n",
    "# seed the random number generator \n",
    "from numpy.random import seed \n",
    "from numpy.random import rand \n",
    "\n",
    "# seed the random number generator \n",
    "seed(1) \n",
    "\n",
    "# generate some random numbers \n",
    "print(rand(3))\n",
    "\n",
    "# reset the seed\n",
    "seed(1) \n",
    "\n",
    "# generate some random numbers\n",
    "print(rand(3))"
   ]
  },
  {
   "cell_type": "code",
   "execution_count": 22,
   "metadata": {},
   "outputs": [
    {
     "name": "stdout",
     "output_type": "stream",
     "text": [
      "[  4.17022005e-01   7.20324493e-01   1.14374817e-04   3.02332573e-01\n",
      "   1.46755891e-01   9.23385948e-02   1.86260211e-01   3.45560727e-01\n",
      "   3.96767474e-01   5.38816734e-01]\n",
      "[5 2 4 2 4 7 7 9 1 7 0 6 9 9 7 6 9 1 0 1]\n",
      "[-0.17242821 -0.87785842  0.04221375  0.58281521 -1.10061918  1.14472371\n",
      "  0.90159072  0.50249434  0.90085595 -0.68372786]\n"
     ]
    }
   ],
   "source": [
    "# Array of random generated numbers (floating points, inetgers, gaussian values)\n",
    "\n",
    "# seed the random number generator \n",
    "from numpy.random import seed\n",
    "from numpy.random import rand\n",
    "from numpy.random import randint\n",
    "from numpy.random import randn \n",
    "from numpy.random import shuffle\n",
    "\n",
    "# seed the random number generator\n",
    "seed(1) \n",
    "\n",
    "# generate some random numbers \n",
    "value_rand = rand(10)\n",
    "value_randint = randint(0, 10, 20)\n",
    "value_gauss = randn(10)\n",
    "\n",
    "print(value_rand) \n",
    "print(value_randint) \n",
    "print(value_gauss)"
   ]
  },
  {
   "cell_type": "code",
   "execution_count": 23,
   "metadata": {},
   "outputs": [
    {
     "name": "stdout",
     "output_type": "stream",
     "text": [
      "[0, 1, 2, 3, 4, 5, 6, 7, 8, 9, 10, 11, 12, 13, 14, 15, 16, 17, 18, 19]\n",
      "[3, 16, 6, 10, 2, 14, 4, 17, 7, 1, 13, 0, 19, 18, 9, 15, 8, 12, 11, 5]\n"
     ]
    }
   ],
   "source": [
    "# Shuffle NumPy array \n",
    "\n",
    "# randomly shuffle a sequence \n",
    "from numpy.random import seed\n",
    "from numpy.random import shuffle \n",
    "\n",
    "# seed random number generator\n",
    "seed(1)\n",
    "\n",
    "# prepare a sequence\n",
    "sequence = [i for i in range(20)]\n",
    "\n",
    "print(sequence)\n",
    "\n",
    "# randomly shuffle the sequence\n",
    "shuffle(sequence)\n",
    "print(sequence)"
   ]
  },
  {
   "cell_type": "code",
   "execution_count": null,
   "metadata": {
    "collapsed": true
   },
   "outputs": [],
   "source": []
  },
  {
   "cell_type": "code",
   "execution_count": null,
   "metadata": {
    "collapsed": true
   },
   "outputs": [],
   "source": []
  },
  {
   "cell_type": "code",
   "execution_count": null,
   "metadata": {
    "collapsed": true
   },
   "outputs": [],
   "source": []
  },
  {
   "cell_type": "code",
   "execution_count": null,
   "metadata": {
    "collapsed": true
   },
   "outputs": [],
   "source": []
  },
  {
   "cell_type": "code",
   "execution_count": null,
   "metadata": {
    "collapsed": true
   },
   "outputs": [],
   "source": []
  },
  {
   "cell_type": "code",
   "execution_count": null,
   "metadata": {
    "collapsed": true
   },
   "outputs": [],
   "source": []
  },
  {
   "cell_type": "code",
   "execution_count": null,
   "metadata": {
    "collapsed": true
   },
   "outputs": [],
   "source": []
  },
  {
   "cell_type": "code",
   "execution_count": null,
   "metadata": {
    "collapsed": true
   },
   "outputs": [],
   "source": []
  },
  {
   "cell_type": "code",
   "execution_count": null,
   "metadata": {
    "collapsed": true
   },
   "outputs": [],
   "source": []
  },
  {
   "cell_type": "code",
   "execution_count": null,
   "metadata": {
    "collapsed": true
   },
   "outputs": [],
   "source": []
  },
  {
   "cell_type": "code",
   "execution_count": null,
   "metadata": {
    "collapsed": true
   },
   "outputs": [],
   "source": []
  },
  {
   "cell_type": "code",
   "execution_count": null,
   "metadata": {
    "collapsed": true
   },
   "outputs": [],
   "source": []
  },
  {
   "cell_type": "code",
   "execution_count": null,
   "metadata": {
    "collapsed": true
   },
   "outputs": [],
   "source": []
  },
  {
   "cell_type": "code",
   "execution_count": null,
   "metadata": {
    "collapsed": true
   },
   "outputs": [],
   "source": []
  }
 ],
 "metadata": {
  "kernelspec": {
   "display_name": "Python 3",
   "language": "python",
   "name": "python3"
  },
  "language_info": {
   "codemirror_mode": {
    "name": "ipython",
    "version": 3
   },
   "file_extension": ".py",
   "mimetype": "text/x-python",
   "name": "python",
   "nbconvert_exporter": "python",
   "pygments_lexer": "ipython3",
   "version": "3.6.3"
  }
 },
 "nbformat": 4,
 "nbformat_minor": 2
}
