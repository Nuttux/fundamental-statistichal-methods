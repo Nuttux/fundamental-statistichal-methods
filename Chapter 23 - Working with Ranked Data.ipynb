{
 "cells": [
  {
   "cell_type": "code",
   "execution_count": 2,
   "metadata": {},
   "outputs": [
    {
     "name": "stdout",
     "output_type": "stream",
     "text": [
      "[  4.17022005e-01   7.20324493e-01   1.14374817e-04   3.02332573e-01\n",
      "   1.46755891e-01   9.23385948e-02   1.86260211e-01   3.45560727e-01\n",
      "   3.96767474e-01   5.38816734e-01]\n",
      "[ 408.  721.    1.  300.  151.   93.  186.  342.  385.  535.]\n"
     ]
    }
   ],
   "source": [
    "# example of ranking real-valued observations \n",
    "from numpy.random import rand\n",
    "from numpy.random import seed\n",
    "from scipy.stats import rankdata \n",
    "\n",
    "# seed the random number generator\n",
    "seed(1)\n",
    "\n",
    "# generate dataset \n",
    "data = rand(1000)\n",
    "\n",
    "# review first 10 samples \n",
    "print(data[:10])\n",
    "\n",
    "# rank data \n",
    "ranked = rankdata(data)\n",
    "\n",
    "# review first 10 ranked sample\n",
    "print(ranked[:10])\n"
   ]
  },
  {
   "cell_type": "code",
   "execution_count": null,
   "metadata": {
    "collapsed": true
   },
   "outputs": [],
   "source": []
  },
  {
   "cell_type": "code",
   "execution_count": null,
   "metadata": {
    "collapsed": true
   },
   "outputs": [],
   "source": []
  }
 ],
 "metadata": {
  "kernelspec": {
   "display_name": "Python 3",
   "language": "python",
   "name": "python3"
  },
  "language_info": {
   "codemirror_mode": {
    "name": "ipython",
    "version": 3
   },
   "file_extension": ".py",
   "mimetype": "text/x-python",
   "name": "python",
   "nbconvert_exporter": "python",
   "pygments_lexer": "ipython3",
   "version": "3.6.3"
  }
 },
 "nbformat": 4,
 "nbformat_minor": 2
}
