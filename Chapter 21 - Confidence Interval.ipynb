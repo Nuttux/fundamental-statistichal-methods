{
 "cells": [
  {
   "cell_type": "code",
   "execution_count": 1,
   "metadata": {},
   "outputs": [
    {
     "name": "stdout",
     "output_type": "stream",
     "text": [
      "0.111\n"
     ]
    }
   ],
   "source": [
    "# binomial confidence interval \n",
    "from math import sqrt \n",
    "\n",
    "# calculate the interval \n",
    "interval = 1.96 * sqrt( (0.2 * (1 - 0.2))/50)\n",
    "print( \"%.3f\" % interval)"
   ]
  },
  {
   "cell_type": "code",
   "execution_count": 3,
   "metadata": {},
   "outputs": [
    {
     "name": "stdout",
     "output_type": "stream",
     "text": [
      "lower=0.816 ,upper=0.944\n"
     ]
    }
   ],
   "source": [
    "# caluclate the confidence interval\n",
    "from statsmodels.stats.proportion import proportion_confint\n",
    "\n",
    "# calculate the interval \n",
    "lower, upper = proportion_confint(88, 100, 0.05)\n",
    "print(\"lower=%.3f ,upper=%.3f\" % (lower, upper))"
   ]
  },
  {
   "cell_type": "code",
   "execution_count": 16,
   "metadata": {},
   "outputs": [
    {
     "name": "stdout",
     "output_type": "stream",
     "text": [
      "50th percentile (median) = 0.750\n",
      "2.5th percentile = 0.741\n",
      "97.5th percentile = 0.757\n"
     ]
    }
   ],
   "source": [
    "# bootstrap confidence intervals\n",
    "from numpy.random import seed\n",
    "from numpy.random import rand\n",
    "from numpy.random import randint\n",
    "from numpy import mean\n",
    "from numpy import median\n",
    "from numpy import percentile\n",
    "\n",
    "# seed the random number generator\n",
    "seed(1)\n",
    "\n",
    "# generate dataset\n",
    "dataset = 0.5 + rand(1000) * 0.5\n",
    "\n",
    "# bootstrap\n",
    "scores = list()\n",
    "for _ in range(100):\n",
    "  # bootstrap sample\n",
    "  indices = randint(0, 1000, 1000)\n",
    "  sample = dataset[indices]\n",
    "  # calculate and store statistic\n",
    "  statistic = mean(sample)\n",
    "  scores.append(statistic)\n",
    "print(\"50th percentile (median) = %.3f\"  % median(scores))\n",
    "\n",
    "# calculate 95% confidence intervals (100 - alpha)\n",
    "alpha = 5.0\n",
    "\n",
    "# calculate lower percentile (e.g. 2.5)\n",
    "lower_p = alpha / 2.0\n",
    "\n",
    "# retrieve observation at lower percentile\n",
    "lower = max(0.0, percentile(scores, lower_p))\n",
    "print(\"%.1fth percentile = %.3f\"  % (lower_p, lower))\n",
    "\n",
    "# calculate upper percentile (e.g. 97.5)\n",
    "upper_p = (100 - alpha) + (alpha / 2.0)\n",
    "\n",
    "# retrieve observation at upper percentile\n",
    "upper = min(1.0, percentile(scores, upper_p))\n",
    "print(\"%.1fth percentile = %.3f\" % (upper_p, upper))"
   ]
  },
  {
   "cell_type": "code",
   "execution_count": null,
   "metadata": {
    "collapsed": true
   },
   "outputs": [],
   "source": []
  },
  {
   "cell_type": "code",
   "execution_count": null,
   "metadata": {
    "collapsed": true
   },
   "outputs": [],
   "source": []
  },
  {
   "cell_type": "code",
   "execution_count": null,
   "metadata": {
    "collapsed": true
   },
   "outputs": [],
   "source": []
  },
  {
   "cell_type": "code",
   "execution_count": null,
   "metadata": {
    "collapsed": true
   },
   "outputs": [],
   "source": []
  },
  {
   "cell_type": "code",
   "execution_count": null,
   "metadata": {
    "collapsed": true
   },
   "outputs": [],
   "source": []
  },
  {
   "cell_type": "code",
   "execution_count": null,
   "metadata": {
    "collapsed": true
   },
   "outputs": [],
   "source": []
  },
  {
   "cell_type": "code",
   "execution_count": null,
   "metadata": {
    "collapsed": true
   },
   "outputs": [],
   "source": []
  },
  {
   "cell_type": "code",
   "execution_count": null,
   "metadata": {
    "collapsed": true
   },
   "outputs": [],
   "source": []
  },
  {
   "cell_type": "code",
   "execution_count": null,
   "metadata": {
    "collapsed": true
   },
   "outputs": [],
   "source": []
  },
  {
   "cell_type": "code",
   "execution_count": null,
   "metadata": {
    "collapsed": true
   },
   "outputs": [],
   "source": []
  },
  {
   "cell_type": "code",
   "execution_count": null,
   "metadata": {
    "collapsed": true
   },
   "outputs": [],
   "source": []
  },
  {
   "cell_type": "code",
   "execution_count": null,
   "metadata": {
    "collapsed": true
   },
   "outputs": [],
   "source": []
  },
  {
   "cell_type": "code",
   "execution_count": null,
   "metadata": {
    "collapsed": true
   },
   "outputs": [],
   "source": []
  }
 ],
 "metadata": {
  "kernelspec": {
   "display_name": "Python 3",
   "language": "python",
   "name": "python3"
  },
  "language_info": {
   "codemirror_mode": {
    "name": "ipython",
    "version": 3
   },
   "file_extension": ".py",
   "mimetype": "text/x-python",
   "name": "python",
   "nbconvert_exporter": "python",
   "pygments_lexer": "ipython3",
   "version": "3.6.3"
  }
 },
 "nbformat": 4,
 "nbformat_minor": 2
}
