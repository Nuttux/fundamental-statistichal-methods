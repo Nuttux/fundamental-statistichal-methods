{
 "cells": [
  {
   "cell_type": "code",
   "execution_count": null,
   "metadata": {
    "collapsed": true
   },
   "outputs": [],
   "source": [
    "# scikit-learn k-fold cross-validation \n",
    "from numpy import array \n",
    "from sklearn.model_selection import Kfold\n",
    "\n",
    "# data sample \n",
    "data = array([0.1, 0.2, 0.3, 0.4, 0.5, 0.6])\n",
    "\n",
    "# prepare cross-validation \n",
    "kfold = KFold(3, True, 1)\n",
    "\n",
    "# enumerate splits \n",
    "for train, test in kfold.split(data):\n",
    "    print(train: %s, test: %s  % (data[train], data[test])\n",
    "          \n",
    "\n"
   ]
  }
 ],
 "metadata": {
  "kernelspec": {
   "display_name": "Python 3",
   "language": "python",
   "name": "python3"
  },
  "language_info": {
   "codemirror_mode": {
    "name": "ipython",
    "version": 3
   },
   "file_extension": ".py",
   "mimetype": "text/x-python",
   "name": "python",
   "nbconvert_exporter": "python",
   "pygments_lexer": "ipython3",
   "version": "3.6.3"
  }
 },
 "nbformat": 4,
 "nbformat_minor": 2
}
